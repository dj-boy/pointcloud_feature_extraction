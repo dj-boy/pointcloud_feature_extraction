{
 "cells": [
  {
   "cell_type": "code",
   "execution_count": null,
   "metadata": {},
   "outputs": [],
   "source": [
    "import os\n",
    "import numpy as np\n",
    "import glob\n",
    "import shutil\n",
    "import time\n",
    "\n",
    "train_dir = './pmd_multiview_train'\n",
    "class_names = os.listdir(train_dir)\n",
    "test_dir = './pmd_multiview_test'\n",
    "\n",
    "total_pcd = 0\n",
    "\n",
    "class_dirs = {}\n",
    "\n",
    "test_size = 100\n",
    "\n",
    "for i,label in enumerate(class_names):\n",
    "    # Take 10 classes only\n",
    "    if os.path.isdir(os.path.join(train_dir,label)):\n",
    "        if label != \"DISTANCE_TUBE\":\n",
    "            class_rootdir = os.path.join(train_dir,label,\"\")\n",
    "            pcd_files = glob.glob(class_rootdir + '**/*.pcd', recursive=True)\n",
    "            np.random.shuffle(pcd_files)\n",
    "            #class_dirs[label] = pcd_files[0:100]\n",
    "            test_pcd_files = pcd_files[0:100]\n",
    "            test_label_dir = os.path.join(test_dir, str(label))\n",
    "            if not os.path.exists(test_label_dir):\n",
    "                os.makedirs(test_label_dir)\n",
    "            for test_file in test_pcd_files:\n",
    "                #shutil.move(test_file, os.path.join(test_label_dir, '{}_{}.pcd'.format(label, time.time())))\n",
    "                print (test_file)\n",
    "                print (os.path.join(test_label_dir, '{}_{}.pcd'.format(label, time.time())))\n",
    "            print (label, \": \", len(pcd_files))"
   ]
  },
  {
   "cell_type": "raw",
   "metadata": {},
   "source": []
  },
  {
   "cell_type": "code",
   "execution_count": 2,
   "metadata": {},
   "outputs": [],
   "source": [
    "import gzip\n",
    "import pickle\n",
    "import numpy as np\n",
    "\n",
    "def load_compressed_pickle_file(pickle_file_name):\n",
    "    with gzip.open(pickle_file_name, 'rb') as f:\n",
    "        return pickle.load(f)\n"
   ]
  },
  {
   "cell_type": "code",
   "execution_count": 3,
   "metadata": {},
   "outputs": [],
   "source": [
    "#dataset = load_compressed_pickle_file('/home/emha/pmd_multiview_dataset/data0.pgz')\n",
    "#data = dataset['data']\n",
    "#labels = dataset['labels']"
   ]
  },
  {
   "cell_type": "code",
   "execution_count": 6,
   "metadata": {},
   "outputs": [],
   "source": [
    "data = None\n",
    "labels = None\n",
    "\n",
    "for i in range(5):\n",
    "    dataset = load_compressed_pickle_file('/home/emha/pmd_multiview_dataset/data{}.pgz'.format(i))\n",
    "    if i == 0:\n",
    "        data = dataset['data']\n",
    "        labels = dataset['labels']\n",
    "    else:\n",
    "        data = np.concatenate((data, dataset['data']))\n",
    "        labels = np.concatenate((labels, dataset['labels']))"
   ]
  },
  {
   "cell_type": "code",
   "execution_count": 7,
   "metadata": {},
   "outputs": [
    {
     "name": "stdout",
     "output_type": "stream",
     "text": [
      "(3200,)\n",
      "(3200,)\n"
     ]
    }
   ],
   "source": [
    "#data = np.concatenate((data, dataset1['data']))\n",
    "#labels = np.concatenate((labels, dataset1['labels']))\n",
    "print (data.shape)\n",
    "print (labels.shape)"
   ]
  },
  {
   "cell_type": "code",
   "execution_count": null,
   "metadata": {},
   "outputs": [],
   "source": [
    "labels"
   ]
  },
  {
   "cell_type": "code",
   "execution_count": 11,
   "metadata": {},
   "outputs": [
    {
     "data": {
      "text/plain": [
       "(28, 3)"
      ]
     },
     "execution_count": 11,
     "metadata": {},
     "output_type": "execute_result"
    }
   ],
   "source": [
    "data[0].shape"
   ]
  },
  {
   "cell_type": "code",
   "execution_count": null,
   "metadata": {},
   "outputs": [],
   "source": []
  },
  {
   "cell_type": "code",
   "execution_count": null,
   "metadata": {},
   "outputs": [],
   "source": []
  },
  {
   "cell_type": "code",
   "execution_count": null,
   "metadata": {},
   "outputs": [],
   "source": [
    "labels"
   ]
  },
  {
   "cell_type": "code",
   "execution_count": null,
   "metadata": {},
   "outputs": [],
   "source": []
  }
 ],
 "metadata": {
  "kernelspec": {
   "display_name": "Python [conda env:deeplearning]",
   "language": "python",
   "name": "conda-env-deeplearning-py"
  },
  "language_info": {
   "codemirror_mode": {
    "name": "ipython",
    "version": 3
   },
   "file_extension": ".py",
   "mimetype": "text/x-python",
   "name": "python",
   "nbconvert_exporter": "python",
   "pygments_lexer": "ipython3",
   "version": "3.6.7"
  }
 },
 "nbformat": 4,
 "nbformat_minor": 2
}
